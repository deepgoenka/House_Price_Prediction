{
 "cells": [
  {
   "cell_type": "markdown",
   "id": "46f5bbb7",
   "metadata": {},
   "source": [
    "# House Price Prediction"
   ]
  },
  {
   "cell_type": "markdown",
   "id": "cb8b6cb7",
   "metadata": {},
   "source": [
    "### Libraries Imported "
   ]
  },
  {
   "cell_type": "code",
   "execution_count": 138,
   "id": "c4c1bfc7",
   "metadata": {},
   "outputs": [],
   "source": [
    "import pandas as pd\n",
    "from sklearn.model_selection import train_test_split\n",
    "from sklearn.metrics import r2_score\n",
    "import seaborn as sns\n",
    "from scipy import stats\n",
    "from scipy.stats import zscore\n",
    "import matplotlib.pyplot as plt\n",
    "from sklearn.feature_selection import mutual_info_regression\n",
    "from category_encoders import MEstimateEncoder\n",
    "import warnings\n",
    "warnings.filterwarnings(\"ignore\")"
   ]
  },
  {
   "cell_type": "markdown",
   "id": "d07aa4cf",
   "metadata": {},
   "source": [
    "### Importing Dataset "
   ]
  },
  {
   "cell_type": "code",
   "execution_count": 111,
   "id": "f1ad1e5d",
   "metadata": {},
   "outputs": [],
   "source": [
    "house_data = pd.read_csv(\"C:/Users/User/Downloads/House Price Prediction/data.csv\")"
   ]
  },
  {
   "cell_type": "code",
   "execution_count": 112,
   "id": "e3ce3cbc",
   "metadata": {},
   "outputs": [
    {
     "data": {
      "text/html": [
       "<div>\n",
       "<style scoped>\n",
       "    .dataframe tbody tr th:only-of-type {\n",
       "        vertical-align: middle;\n",
       "    }\n",
       "\n",
       "    .dataframe tbody tr th {\n",
       "        vertical-align: top;\n",
       "    }\n",
       "\n",
       "    .dataframe thead th {\n",
       "        text-align: right;\n",
       "    }\n",
       "</style>\n",
       "<table border=\"1\" class=\"dataframe\">\n",
       "  <thead>\n",
       "    <tr style=\"text-align: right;\">\n",
       "      <th></th>\n",
       "      <th>date</th>\n",
       "      <th>price</th>\n",
       "      <th>bedrooms</th>\n",
       "      <th>bathrooms</th>\n",
       "      <th>sqft_living</th>\n",
       "      <th>sqft_lot</th>\n",
       "      <th>floors</th>\n",
       "      <th>waterfront</th>\n",
       "      <th>view</th>\n",
       "      <th>condition</th>\n",
       "      <th>sqft_above</th>\n",
       "      <th>sqft_basement</th>\n",
       "      <th>yr_built</th>\n",
       "      <th>yr_renovated</th>\n",
       "      <th>street</th>\n",
       "      <th>city</th>\n",
       "      <th>statezip</th>\n",
       "      <th>country</th>\n",
       "    </tr>\n",
       "  </thead>\n",
       "  <tbody>\n",
       "    <tr>\n",
       "      <th>0</th>\n",
       "      <td>2014-05-02 00:00:00</td>\n",
       "      <td>313000.0</td>\n",
       "      <td>3.0</td>\n",
       "      <td>1.50</td>\n",
       "      <td>1340</td>\n",
       "      <td>7912</td>\n",
       "      <td>1.5</td>\n",
       "      <td>0</td>\n",
       "      <td>0</td>\n",
       "      <td>3</td>\n",
       "      <td>1340</td>\n",
       "      <td>0</td>\n",
       "      <td>1955</td>\n",
       "      <td>2005</td>\n",
       "      <td>18810 Densmore Ave N</td>\n",
       "      <td>Shoreline</td>\n",
       "      <td>WA 98133</td>\n",
       "      <td>USA</td>\n",
       "    </tr>\n",
       "    <tr>\n",
       "      <th>1</th>\n",
       "      <td>2014-05-02 00:00:00</td>\n",
       "      <td>2384000.0</td>\n",
       "      <td>5.0</td>\n",
       "      <td>2.50</td>\n",
       "      <td>3650</td>\n",
       "      <td>9050</td>\n",
       "      <td>2.0</td>\n",
       "      <td>0</td>\n",
       "      <td>4</td>\n",
       "      <td>5</td>\n",
       "      <td>3370</td>\n",
       "      <td>280</td>\n",
       "      <td>1921</td>\n",
       "      <td>0</td>\n",
       "      <td>709 W Blaine St</td>\n",
       "      <td>Seattle</td>\n",
       "      <td>WA 98119</td>\n",
       "      <td>USA</td>\n",
       "    </tr>\n",
       "    <tr>\n",
       "      <th>2</th>\n",
       "      <td>2014-05-02 00:00:00</td>\n",
       "      <td>342000.0</td>\n",
       "      <td>3.0</td>\n",
       "      <td>2.00</td>\n",
       "      <td>1930</td>\n",
       "      <td>11947</td>\n",
       "      <td>1.0</td>\n",
       "      <td>0</td>\n",
       "      <td>0</td>\n",
       "      <td>4</td>\n",
       "      <td>1930</td>\n",
       "      <td>0</td>\n",
       "      <td>1966</td>\n",
       "      <td>0</td>\n",
       "      <td>26206-26214 143rd Ave SE</td>\n",
       "      <td>Kent</td>\n",
       "      <td>WA 98042</td>\n",
       "      <td>USA</td>\n",
       "    </tr>\n",
       "    <tr>\n",
       "      <th>3</th>\n",
       "      <td>2014-05-02 00:00:00</td>\n",
       "      <td>420000.0</td>\n",
       "      <td>3.0</td>\n",
       "      <td>2.25</td>\n",
       "      <td>2000</td>\n",
       "      <td>8030</td>\n",
       "      <td>1.0</td>\n",
       "      <td>0</td>\n",
       "      <td>0</td>\n",
       "      <td>4</td>\n",
       "      <td>1000</td>\n",
       "      <td>1000</td>\n",
       "      <td>1963</td>\n",
       "      <td>0</td>\n",
       "      <td>857 170th Pl NE</td>\n",
       "      <td>Bellevue</td>\n",
       "      <td>WA 98008</td>\n",
       "      <td>USA</td>\n",
       "    </tr>\n",
       "    <tr>\n",
       "      <th>4</th>\n",
       "      <td>2014-05-02 00:00:00</td>\n",
       "      <td>550000.0</td>\n",
       "      <td>4.0</td>\n",
       "      <td>2.50</td>\n",
       "      <td>1940</td>\n",
       "      <td>10500</td>\n",
       "      <td>1.0</td>\n",
       "      <td>0</td>\n",
       "      <td>0</td>\n",
       "      <td>4</td>\n",
       "      <td>1140</td>\n",
       "      <td>800</td>\n",
       "      <td>1976</td>\n",
       "      <td>1992</td>\n",
       "      <td>9105 170th Ave NE</td>\n",
       "      <td>Redmond</td>\n",
       "      <td>WA 98052</td>\n",
       "      <td>USA</td>\n",
       "    </tr>\n",
       "  </tbody>\n",
       "</table>\n",
       "</div>"
      ],
      "text/plain": [
       "                  date      price  bedrooms  bathrooms  sqft_living  sqft_lot  \\\n",
       "0  2014-05-02 00:00:00   313000.0       3.0       1.50         1340      7912   \n",
       "1  2014-05-02 00:00:00  2384000.0       5.0       2.50         3650      9050   \n",
       "2  2014-05-02 00:00:00   342000.0       3.0       2.00         1930     11947   \n",
       "3  2014-05-02 00:00:00   420000.0       3.0       2.25         2000      8030   \n",
       "4  2014-05-02 00:00:00   550000.0       4.0       2.50         1940     10500   \n",
       "\n",
       "   floors  waterfront  view  condition  sqft_above  sqft_basement  yr_built  \\\n",
       "0     1.5           0     0          3        1340              0      1955   \n",
       "1     2.0           0     4          5        3370            280      1921   \n",
       "2     1.0           0     0          4        1930              0      1966   \n",
       "3     1.0           0     0          4        1000           1000      1963   \n",
       "4     1.0           0     0          4        1140            800      1976   \n",
       "\n",
       "   yr_renovated                    street       city  statezip country  \n",
       "0          2005      18810 Densmore Ave N  Shoreline  WA 98133     USA  \n",
       "1             0           709 W Blaine St    Seattle  WA 98119     USA  \n",
       "2             0  26206-26214 143rd Ave SE       Kent  WA 98042     USA  \n",
       "3             0           857 170th Pl NE   Bellevue  WA 98008     USA  \n",
       "4          1992         9105 170th Ave NE    Redmond  WA 98052     USA  "
      ]
     },
     "execution_count": 112,
     "metadata": {},
     "output_type": "execute_result"
    }
   ],
   "source": [
    "house_data.head()"
   ]
  },
  {
   "cell_type": "code",
   "execution_count": 113,
   "id": "bb588b78",
   "metadata": {
    "scrolled": false
   },
   "outputs": [
    {
     "name": "stdout",
     "output_type": "stream",
     "text": [
      "<class 'pandas.core.frame.DataFrame'>\n",
      "RangeIndex: 4600 entries, 0 to 4599\n",
      "Data columns (total 18 columns):\n",
      " #   Column         Non-Null Count  Dtype  \n",
      "---  ------         --------------  -----  \n",
      " 0   date           4600 non-null   object \n",
      " 1   price          4600 non-null   float64\n",
      " 2   bedrooms       4600 non-null   float64\n",
      " 3   bathrooms      4600 non-null   float64\n",
      " 4   sqft_living    4600 non-null   int64  \n",
      " 5   sqft_lot       4600 non-null   int64  \n",
      " 6   floors         4600 non-null   float64\n",
      " 7   waterfront     4600 non-null   int64  \n",
      " 8   view           4600 non-null   int64  \n",
      " 9   condition      4600 non-null   int64  \n",
      " 10  sqft_above     4600 non-null   int64  \n",
      " 11  sqft_basement  4600 non-null   int64  \n",
      " 12  yr_built       4600 non-null   int64  \n",
      " 13  yr_renovated   4600 non-null   int64  \n",
      " 14  street         4600 non-null   object \n",
      " 15  city           4600 non-null   object \n",
      " 16  statezip       4600 non-null   object \n",
      " 17  country        4600 non-null   object \n",
      "dtypes: float64(4), int64(9), object(5)\n",
      "memory usage: 647.0+ KB\n"
     ]
    }
   ],
   "source": [
    "house_data.info()"
   ]
  },
  {
   "cell_type": "markdown",
   "id": "af24a6cb",
   "metadata": {},
   "source": [
    "### Visualizing distribution of Price "
   ]
  },
  {
   "cell_type": "code",
   "execution_count": 114,
   "id": "0d977ef4",
   "metadata": {},
   "outputs": [
    {
     "data": {
      "image/png": "[encoded data removed]",
      "text/plain": [
       "<Figure size 1080x360 with 1 Axes>"
      ]
     },
     "metadata": {
      "needs_background": "light"
     },
     "output_type": "display_data"
    }
   ],
   "source": [
    "plt.figure(figsize=(15, 5))\n",
    "sns.kdeplot(house_data['price'].apply(np.log1p), fill=True)\n",
    "plt.show()"
   ]
  },
  {
   "cell_type": "markdown",
   "id": "1c483df2",
   "metadata": {},
   "source": [
    "### Handling Outliers "
   ]
  },
  {
   "cell_type": "code",
   "execution_count": 115,
   "id": "2a459ec7",
   "metadata": {},
   "outputs": [],
   "source": [
    "# Function to create Z-Score\n",
    "def make_mi_score(x,y):\n",
    "    x = x.copy()\n",
    "    for colname in x.select_dtypes(['object','category']):\n",
    "        x[colname], _ = x[colname].factorize()\n",
    "        \n",
    "    discrete_features = [pd.api.types.is_integer_dtype(t) for t in x.dtypes]\n",
    "    mi_score = mutual_info_regression(x, y, discrete_features=discrete_features, random_state=42)\n",
    "    mi_score = pd.Series(mi_score, name='Mutual Information Score', index=x.columns)\n",
    "    mi_score = mi_score.sort_values(ascending=False)\n",
    "    return mi_score"
   ]
  },
  {
   "cell_type": "code",
   "execution_count": 116,
   "id": "434f9b8f",
   "metadata": {},
   "outputs": [
    {
     "data": {
      "text/plain": [
       "street           1.187259\n",
       "statezip         0.453802\n",
       "city             0.315389\n",
       "sqft_living      0.298434\n",
       "sqft_above       0.200396\n",
       "bathrooms        0.184815\n",
       "sqft_lot         0.145104\n",
       "bedrooms         0.080524\n",
       "yr_built         0.075527\n",
       "floors           0.053934\n",
       "view             0.050866\n",
       "sqft_basement    0.046252\n",
       "yr_renovated     0.011067\n",
       "waterfront       0.005997\n",
       "date             0.005088\n",
       "condition        0.001126\n",
       "country          0.000000\n",
       "Name: Mutual Information Score, dtype: float64"
      ]
     },
     "execution_count": 116,
     "metadata": {},
     "output_type": "execute_result"
    }
   ],
   "source": [
    "X = house_data.drop(columns=['price'])\n",
    "y = house_data[['price']]\n",
    "\n",
    "mi_score = make_mi_score(X, y)\n",
    "mi_score"
   ]
  },
  {
   "cell_type": "code",
   "execution_count": 117,
   "id": "7914893c",
   "metadata": {},
   "outputs": [
    {
     "data": {
      "image/png": "[encoded data removed]",
      "text/plain": [
       "<Figure size 1080x720 with 1 Axes>"
      ]
     },
     "metadata": {
      "needs_background": "light"
     },
     "output_type": "display_data"
    }
   ],
   "source": [
    "def plot_mi_score(score):\n",
    "    score = score.sort_values(ascending = True)\n",
    "    width = np.arange(len(score))\n",
    "    ticks = list(score.index)\n",
    "    plt.figure(figsize=(15, 10))\n",
    "    plt.barh(width,score)\n",
    "    plt.yticks(width,ticks)\n",
    "    plt.title('Mutual Information Score')\n",
    "\n",
    "plot_mi_score(mi_score)"
   ]
  },
  {
   "cell_type": "markdown",
   "id": "67d9f31b",
   "metadata": {},
   "source": [
    "### Choosing attributes based on importance "
   ]
  },
  {
   "cell_type": "code",
   "execution_count": 118,
   "id": "85ac5596",
   "metadata": {},
   "outputs": [],
   "source": [
    "house_data = house_data[['street', 'statezip', 'city', 'sqft_living', 'sqft_above', 'bathrooms', 'yr_built', 'sqft_lot', 'bedrooms', 'floors', 'sqft_basement']]"
   ]
  },
  {
   "cell_type": "code",
   "execution_count": 119,
   "id": "ce56e3bd",
   "metadata": {},
   "outputs": [
    {
     "data": {
      "text/html": [
       "<div>\n",
       "<style scoped>\n",
       "    .dataframe tbody tr th:only-of-type {\n",
       "        vertical-align: middle;\n",
       "    }\n",
       "\n",
       "    .dataframe tbody tr th {\n",
       "        vertical-align: top;\n",
       "    }\n",
       "\n",
       "    .dataframe thead th {\n",
       "        text-align: right;\n",
       "    }\n",
       "</style>\n",
       "<table border=\"1\" class=\"dataframe\">\n",
       "  <thead>\n",
       "    <tr style=\"text-align: right;\">\n",
       "      <th></th>\n",
       "      <th>street</th>\n",
       "      <th>statezip</th>\n",
       "      <th>city</th>\n",
       "      <th>sqft_living</th>\n",
       "      <th>sqft_above</th>\n",
       "      <th>bathrooms</th>\n",
       "      <th>yr_built</th>\n",
       "      <th>sqft_lot</th>\n",
       "      <th>bedrooms</th>\n",
       "      <th>floors</th>\n",
       "      <th>sqft_basement</th>\n",
       "    </tr>\n",
       "  </thead>\n",
       "  <tbody>\n",
       "    <tr>\n",
       "      <th>0</th>\n",
       "      <td>18810 Densmore Ave N</td>\n",
       "      <td>WA 98133</td>\n",
       "      <td>Shoreline</td>\n",
       "      <td>1340</td>\n",
       "      <td>1340</td>\n",
       "      <td>1.50</td>\n",
       "      <td>1955</td>\n",
       "      <td>7912</td>\n",
       "      <td>3.0</td>\n",
       "      <td>1.5</td>\n",
       "      <td>0</td>\n",
       "    </tr>\n",
       "    <tr>\n",
       "      <th>1</th>\n",
       "      <td>709 W Blaine St</td>\n",
       "      <td>WA 98119</td>\n",
       "      <td>Seattle</td>\n",
       "      <td>3650</td>\n",
       "      <td>3370</td>\n",
       "      <td>2.50</td>\n",
       "      <td>1921</td>\n",
       "      <td>9050</td>\n",
       "      <td>5.0</td>\n",
       "      <td>2.0</td>\n",
       "      <td>280</td>\n",
       "    </tr>\n",
       "    <tr>\n",
       "      <th>2</th>\n",
       "      <td>26206-26214 143rd Ave SE</td>\n",
       "      <td>WA 98042</td>\n",
       "      <td>Kent</td>\n",
       "      <td>1930</td>\n",
       "      <td>1930</td>\n",
       "      <td>2.00</td>\n",
       "      <td>1966</td>\n",
       "      <td>11947</td>\n",
       "      <td>3.0</td>\n",
       "      <td>1.0</td>\n",
       "      <td>0</td>\n",
       "    </tr>\n",
       "    <tr>\n",
       "      <th>3</th>\n",
       "      <td>857 170th Pl NE</td>\n",
       "      <td>WA 98008</td>\n",
       "      <td>Bellevue</td>\n",
       "      <td>2000</td>\n",
       "      <td>1000</td>\n",
       "      <td>2.25</td>\n",
       "      <td>1963</td>\n",
       "      <td>8030</td>\n",
       "      <td>3.0</td>\n",
       "      <td>1.0</td>\n",
       "      <td>1000</td>\n",
       "    </tr>\n",
       "    <tr>\n",
       "      <th>4</th>\n",
       "      <td>9105 170th Ave NE</td>\n",
       "      <td>WA 98052</td>\n",
       "      <td>Redmond</td>\n",
       "      <td>1940</td>\n",
       "      <td>1140</td>\n",
       "      <td>2.50</td>\n",
       "      <td>1976</td>\n",
       "      <td>10500</td>\n",
       "      <td>4.0</td>\n",
       "      <td>1.0</td>\n",
       "      <td>800</td>\n",
       "    </tr>\n",
       "  </tbody>\n",
       "</table>\n",
       "</div>"
      ],
      "text/plain": [
       "                     street  statezip       city  sqft_living  sqft_above  \\\n",
       "0      18810 Densmore Ave N  WA 98133  Shoreline         1340        1340   \n",
       "1           709 W Blaine St  WA 98119    Seattle         3650        3370   \n",
       "2  26206-26214 143rd Ave SE  WA 98042       Kent         1930        1930   \n",
       "3           857 170th Pl NE  WA 98008   Bellevue         2000        1000   \n",
       "4         9105 170th Ave NE  WA 98052    Redmond         1940        1140   \n",
       "\n",
       "   bathrooms  yr_built  sqft_lot  bedrooms  floors  sqft_basement  \n",
       "0       1.50      1955      7912       3.0     1.5              0  \n",
       "1       2.50      1921      9050       5.0     2.0            280  \n",
       "2       2.00      1966     11947       3.0     1.0              0  \n",
       "3       2.25      1963      8030       3.0     1.0           1000  \n",
       "4       2.50      1976     10500       4.0     1.0            800  "
      ]
     },
     "execution_count": 119,
     "metadata": {},
     "output_type": "execute_result"
    }
   ],
   "source": [
    "house_data.head()"
   ]
  },
  {
   "cell_type": "markdown",
   "id": "085234a4",
   "metadata": {},
   "source": [
    "### Z scores of the given data "
   ]
  },
  {
   "cell_type": "code",
   "execution_count": 120,
   "id": "8c6692c4",
   "metadata": {},
   "outputs": [],
   "source": [
    "z = np.abs(stats.zscore(house_data[['sqft_living','sqft_above','bathrooms','yr_built','sqft_lot','bedrooms','floors','sqft_basement']]))"
   ]
  },
  {
   "cell_type": "code",
   "execution_count": 121,
   "id": "f8ebd9f4",
   "metadata": {},
   "outputs": [
    {
     "data": {
      "text/html": [
       "<div>\n",
       "<style scoped>\n",
       "    .dataframe tbody tr th:only-of-type {\n",
       "        vertical-align: middle;\n",
       "    }\n",
       "\n",
       "    .dataframe tbody tr th {\n",
       "        vertical-align: top;\n",
       "    }\n",
       "\n",
       "    .dataframe thead th {\n",
       "        text-align: right;\n",
       "    }\n",
       "</style>\n",
       "<table border=\"1\" class=\"dataframe\">\n",
       "  <thead>\n",
       "    <tr style=\"text-align: right;\">\n",
       "      <th></th>\n",
       "      <th>sqft_living</th>\n",
       "      <th>sqft_above</th>\n",
       "      <th>bathrooms</th>\n",
       "      <th>yr_built</th>\n",
       "      <th>sqft_lot</th>\n",
       "      <th>bedrooms</th>\n",
       "      <th>floors</th>\n",
       "      <th>sqft_basement</th>\n",
       "    </tr>\n",
       "  </thead>\n",
       "  <tbody>\n",
       "    <tr>\n",
       "      <th>0</th>\n",
       "      <td>0.829971</td>\n",
       "      <td>0.565224</td>\n",
       "      <td>0.843204</td>\n",
       "      <td>0.531014</td>\n",
       "      <td>0.193434</td>\n",
       "      <td>0.441122</td>\n",
       "      <td>0.022416</td>\n",
       "      <td>0.672464</td>\n",
       "    </tr>\n",
       "    <tr>\n",
       "      <th>1</th>\n",
       "      <td>1.568528</td>\n",
       "      <td>1.789559</td>\n",
       "      <td>0.432802</td>\n",
       "      <td>1.674693</td>\n",
       "      <td>0.161718</td>\n",
       "      <td>1.759705</td>\n",
       "      <td>0.906555</td>\n",
       "      <td>0.069128</td>\n",
       "    </tr>\n",
       "    <tr>\n",
       "      <th>2</th>\n",
       "      <td>0.217367</td>\n",
       "      <td>0.119171</td>\n",
       "      <td>0.205201</td>\n",
       "      <td>0.161000</td>\n",
       "      <td>0.080978</td>\n",
       "      <td>0.441122</td>\n",
       "      <td>0.951388</td>\n",
       "      <td>0.672464</td>\n",
       "    </tr>\n",
       "    <tr>\n",
       "      <th>3</th>\n",
       "      <td>0.144686</td>\n",
       "      <td>0.959621</td>\n",
       "      <td>0.113800</td>\n",
       "      <td>0.261913</td>\n",
       "      <td>0.190145</td>\n",
       "      <td>0.441122</td>\n",
       "      <td>0.951388</td>\n",
       "      <td>1.482306</td>\n",
       "    </tr>\n",
       "    <tr>\n",
       "      <th>4</th>\n",
       "      <td>0.206984</td>\n",
       "      <td>0.797222</td>\n",
       "      <td>0.432802</td>\n",
       "      <td>0.175376</td>\n",
       "      <td>0.121306</td>\n",
       "      <td>0.659291</td>\n",
       "      <td>0.951388</td>\n",
       "      <td>1.051352</td>\n",
       "    </tr>\n",
       "  </tbody>\n",
       "</table>\n",
       "</div>"
      ],
      "text/plain": [
       "   sqft_living  sqft_above  bathrooms  yr_built  sqft_lot  bedrooms    floors  \\\n",
       "0     0.829971    0.565224   0.843204  0.531014  0.193434  0.441122  0.022416   \n",
       "1     1.568528    1.789559   0.432802  1.674693  0.161718  1.759705  0.906555   \n",
       "2     0.217367    0.119171   0.205201  0.161000  0.080978  0.441122  0.951388   \n",
       "3     0.144686    0.959621   0.113800  0.261913  0.190145  0.441122  0.951388   \n",
       "4     0.206984    0.797222   0.432802  0.175376  0.121306  0.659291  0.951388   \n",
       "\n",
       "   sqft_basement  \n",
       "0       0.672464  \n",
       "1       0.069128  \n",
       "2       0.672464  \n",
       "3       1.482306  \n",
       "4       1.051352  "
      ]
     },
     "execution_count": 121,
     "metadata": {},
     "output_type": "execute_result"
    }
   ],
   "source": [
    "z.head()"
   ]
  },
  {
   "cell_type": "markdown",
   "id": "e353e59c",
   "metadata": {},
   "source": [
    "### Threshold value is set to 3 \n",
    "### Data below threshold value are discarded "
   ]
  },
  {
   "cell_type": "code",
   "execution_count": 122,
   "id": "1f8ee66d",
   "metadata": {},
   "outputs": [],
   "source": [
    "house_data = house_data[(z < 3).all(axis=1)]"
   ]
  },
  {
   "cell_type": "code",
   "execution_count": 123,
   "id": "b0ac56b3",
   "metadata": {},
   "outputs": [
    {
     "data": {
      "text/plain": [
       "(4408, 11)"
      ]
     },
     "execution_count": 123,
     "metadata": {},
     "output_type": "execute_result"
    }
   ],
   "source": [
    "house_data.shape"
   ]
  },
  {
   "cell_type": "code",
   "execution_count": 125,
   "id": "1cbcc5ec",
   "metadata": {},
   "outputs": [],
   "source": [
    "house_data = house_data.join(y)"
   ]
  },
  {
   "cell_type": "code",
   "execution_count": 126,
   "id": "0a4f9396",
   "metadata": {},
   "outputs": [
    {
     "data": {
      "text/html": [
       "<div>\n",
       "<style scoped>\n",
       "    .dataframe tbody tr th:only-of-type {\n",
       "        vertical-align: middle;\n",
       "    }\n",
       "\n",
       "    .dataframe tbody tr th {\n",
       "        vertical-align: top;\n",
       "    }\n",
       "\n",
       "    .dataframe thead th {\n",
       "        text-align: right;\n",
       "    }\n",
       "</style>\n",
       "<table border=\"1\" class=\"dataframe\">\n",
       "  <thead>\n",
       "    <tr style=\"text-align: right;\">\n",
       "      <th></th>\n",
       "      <th>street</th>\n",
       "      <th>statezip</th>\n",
       "      <th>city</th>\n",
       "      <th>sqft_living</th>\n",
       "      <th>sqft_above</th>\n",
       "      <th>bathrooms</th>\n",
       "      <th>yr_built</th>\n",
       "      <th>sqft_lot</th>\n",
       "      <th>bedrooms</th>\n",
       "      <th>floors</th>\n",
       "      <th>sqft_basement</th>\n",
       "      <th>price</th>\n",
       "    </tr>\n",
       "  </thead>\n",
       "  <tbody>\n",
       "    <tr>\n",
       "      <th>0</th>\n",
       "      <td>18810 Densmore Ave N</td>\n",
       "      <td>WA 98133</td>\n",
       "      <td>Shoreline</td>\n",
       "      <td>1340</td>\n",
       "      <td>1340</td>\n",
       "      <td>1.50</td>\n",
       "      <td>1955</td>\n",
       "      <td>7912</td>\n",
       "      <td>3.0</td>\n",
       "      <td>1.5</td>\n",
       "      <td>0</td>\n",
       "      <td>313000.0</td>\n",
       "    </tr>\n",
       "    <tr>\n",
       "      <th>1</th>\n",
       "      <td>709 W Blaine St</td>\n",
       "      <td>WA 98119</td>\n",
       "      <td>Seattle</td>\n",
       "      <td>3650</td>\n",
       "      <td>3370</td>\n",
       "      <td>2.50</td>\n",
       "      <td>1921</td>\n",
       "      <td>9050</td>\n",
       "      <td>5.0</td>\n",
       "      <td>2.0</td>\n",
       "      <td>280</td>\n",
       "      <td>2384000.0</td>\n",
       "    </tr>\n",
       "    <tr>\n",
       "      <th>2</th>\n",
       "      <td>26206-26214 143rd Ave SE</td>\n",
       "      <td>WA 98042</td>\n",
       "      <td>Kent</td>\n",
       "      <td>1930</td>\n",
       "      <td>1930</td>\n",
       "      <td>2.00</td>\n",
       "      <td>1966</td>\n",
       "      <td>11947</td>\n",
       "      <td>3.0</td>\n",
       "      <td>1.0</td>\n",
       "      <td>0</td>\n",
       "      <td>342000.0</td>\n",
       "    </tr>\n",
       "    <tr>\n",
       "      <th>3</th>\n",
       "      <td>857 170th Pl NE</td>\n",
       "      <td>WA 98008</td>\n",
       "      <td>Bellevue</td>\n",
       "      <td>2000</td>\n",
       "      <td>1000</td>\n",
       "      <td>2.25</td>\n",
       "      <td>1963</td>\n",
       "      <td>8030</td>\n",
       "      <td>3.0</td>\n",
       "      <td>1.0</td>\n",
       "      <td>1000</td>\n",
       "      <td>420000.0</td>\n",
       "    </tr>\n",
       "    <tr>\n",
       "      <th>4</th>\n",
       "      <td>9105 170th Ave NE</td>\n",
       "      <td>WA 98052</td>\n",
       "      <td>Redmond</td>\n",
       "      <td>1940</td>\n",
       "      <td>1140</td>\n",
       "      <td>2.50</td>\n",
       "      <td>1976</td>\n",
       "      <td>10500</td>\n",
       "      <td>4.0</td>\n",
       "      <td>1.0</td>\n",
       "      <td>800</td>\n",
       "      <td>550000.0</td>\n",
       "    </tr>\n",
       "  </tbody>\n",
       "</table>\n",
       "</div>"
      ],
      "text/plain": [
       "                     street  statezip       city  sqft_living  sqft_above  \\\n",
       "0      18810 Densmore Ave N  WA 98133  Shoreline         1340        1340   \n",
       "1           709 W Blaine St  WA 98119    Seattle         3650        3370   \n",
       "2  26206-26214 143rd Ave SE  WA 98042       Kent         1930        1930   \n",
       "3           857 170th Pl NE  WA 98008   Bellevue         2000        1000   \n",
       "4         9105 170th Ave NE  WA 98052    Redmond         1940        1140   \n",
       "\n",
       "   bathrooms  yr_built  sqft_lot  bedrooms  floors  sqft_basement      price  \n",
       "0       1.50      1955      7912       3.0     1.5              0   313000.0  \n",
       "1       2.50      1921      9050       5.0     2.0            280  2384000.0  \n",
       "2       2.00      1966     11947       3.0     1.0              0   342000.0  \n",
       "3       2.25      1963      8030       3.0     1.0           1000   420000.0  \n",
       "4       2.50      1976     10500       4.0     1.0            800   550000.0  "
      ]
     },
     "execution_count": 126,
     "metadata": {},
     "output_type": "execute_result"
    }
   ],
   "source": [
    "house_data.head()"
   ]
  },
  {
   "cell_type": "markdown",
   "id": "a551f3e6",
   "metadata": {},
   "source": [
    "### Separating features and target "
   ]
  },
  {
   "cell_type": "code",
   "execution_count": 127,
   "id": "688d505c",
   "metadata": {},
   "outputs": [],
   "source": [
    "X = house_data.drop(['price'], axis=1)\n",
    "y = house_data['price']"
   ]
  },
  {
   "cell_type": "markdown",
   "id": "bffd014a",
   "metadata": {},
   "source": [
    "### Encoding the string columns to numeric values"
   ]
  },
  {
   "cell_type": "markdown",
   "id": "eba4254e",
   "metadata": {},
   "source": [
    "MEstimateEncoder - Encodes the columns by building relationship with the target"
   ]
  },
  {
   "cell_type": "code",
   "execution_count": 139,
   "id": "7bdd28be",
   "metadata": {},
   "outputs": [],
   "source": [
    "encoder = MEstimateEncoder(cols=['street','statezip','city'], m=0.5)\n",
    "\n",
    "X = encoder.fit_transform(X, y)"
   ]
  },
  {
   "cell_type": "markdown",
   "id": "e2657ccd",
   "metadata": {},
   "source": [
    "### Splitting Training and Testing data "
   ]
  },
  {
   "cell_type": "code",
   "execution_count": 140,
   "id": "d9d557fc",
   "metadata": {},
   "outputs": [],
   "source": [
    "X_train, X_test, y_train, y_test = train_test_split(X.values, y.values, test_size=0.2, random_state=42)"
   ]
  },
  {
   "cell_type": "markdown",
   "id": "0f4e3d8f",
   "metadata": {},
   "source": [
    "## Model Evaluation "
   ]
  },
  {
   "cell_type": "markdown",
   "id": "8c7dd228",
   "metadata": {},
   "source": [
    "### Linear Regression"
   ]
  },
  {
   "cell_type": "code",
   "execution_count": 142,
   "id": "dfb3c6e9",
   "metadata": {},
   "outputs": [
    {
     "data": {
      "text/html": [
       "<style>#sk-container-id-6 {color: black;background-color: white;}#sk-container-id-6 pre{padding: 0;}#sk-container-id-6 div.sk-toggleable {background-color: white;}#sk-container-id-6 label.sk-toggleable__label {cursor: pointer;display: block;width: 100%;margin-bottom: 0;padding: 0.3em;box-sizing: border-box;text-align: center;}#sk-container-id-6 label.sk-toggleable__label-arrow:before {content: \"▸\";float: left;margin-right: 0.25em;color: #696969;}#sk-container-id-6 label.sk-toggleable__label-arrow:hover:before {color: black;}#sk-container-id-6 div.sk-estimator:hover label.sk-toggleable__label-arrow:before {color: black;}#sk-container-id-6 div.sk-toggleable__content {max-height: 0;max-width: 0;overflow: hidden;text-align: left;background-color: #f0f8ff;}#sk-container-id-6 div.sk-toggleable__content pre {margin: 0.2em;color: black;border-radius: 0.25em;background-color: #f0f8ff;}#sk-container-id-6 input.sk-toggleable__control:checked~div.sk-toggleable__content {max-height: 200px;max-width: 100%;overflow: auto;}#sk-container-id-6 input.sk-toggleable__control:checked~label.sk-toggleable__label-arrow:before {content: \"▾\";}#sk-container-id-6 div.sk-estimator input.sk-toggleable__control:checked~label.sk-toggleable__label {background-color: #d4ebff;}#sk-container-id-6 div.sk-label input.sk-toggleable__control:checked~label.sk-toggleable__label {background-color: #d4ebff;}#sk-container-id-6 input.sk-hidden--visually {border: 0;clip: rect(1px 1px 1px 1px);clip: rect(1px, 1px, 1px, 1px);height: 1px;margin: -1px;overflow: hidden;padding: 0;position: absolute;width: 1px;}#sk-container-id-6 div.sk-estimator {font-family: monospace;background-color: #f0f8ff;border: 1px dotted black;border-radius: 0.25em;box-sizing: border-box;margin-bottom: 0.5em;}#sk-container-id-6 div.sk-estimator:hover {background-color: #d4ebff;}#sk-container-id-6 div.sk-parallel-item::after {content: \"\";width: 100%;border-bottom: 1px solid gray;flex-grow: 1;}#sk-container-id-6 div.sk-label:hover label.sk-toggleable__label {background-color: #d4ebff;}#sk-container-id-6 div.sk-serial::before {content: \"\";position: absolute;border-left: 1px solid gray;box-sizing: border-box;top: 0;bottom: 0;left: 50%;z-index: 0;}#sk-container-id-6 div.sk-serial {display: flex;flex-direction: column;align-items: center;background-color: white;padding-right: 0.2em;padding-left: 0.2em;position: relative;}#sk-container-id-6 div.sk-item {position: relative;z-index: 1;}#sk-container-id-6 div.sk-parallel {display: flex;align-items: stretch;justify-content: center;background-color: white;position: relative;}#sk-container-id-6 div.sk-item::before, #sk-container-id-6 div.sk-parallel-item::before {content: \"\";position: absolute;border-left: 1px solid gray;box-sizing: border-box;top: 0;bottom: 0;left: 50%;z-index: -1;}#sk-container-id-6 div.sk-parallel-item {display: flex;flex-direction: column;z-index: 1;position: relative;background-color: white;}#sk-container-id-6 div.sk-parallel-item:first-child::after {align-self: flex-end;width: 50%;}#sk-container-id-6 div.sk-parallel-item:last-child::after {align-self: flex-start;width: 50%;}#sk-container-id-6 div.sk-parallel-item:only-child::after {width: 0;}#sk-container-id-6 div.sk-dashed-wrapped {border: 1px dashed gray;margin: 0 0.4em 0.5em 0.4em;box-sizing: border-box;padding-bottom: 0.4em;background-color: white;}#sk-container-id-6 div.sk-label label {font-family: monospace;font-weight: bold;display: inline-block;line-height: 1.2em;}#sk-container-id-6 div.sk-label-container {text-align: center;}#sk-container-id-6 div.sk-container {/* jupyter's `normalize.less` sets `[hidden] { display: none; }` but bootstrap.min.css set `[hidden] { display: none !important; }` so we also need the `!important` here to be able to override the default hidden behavior on the sphinx rendered scikit-learn.org. See: https://github.com/scikit-learn/scikit-learn/issues/21755 */display: inline-block !important;position: relative;}#sk-container-id-6 div.sk-text-repr-fallback {display: none;}</style><div id=\"sk-container-id-6\" class=\"sk-top-container\"><div class=\"sk-text-repr-fallback\"><pre>LinearRegression()</pre><b>In a Jupyter environment, please rerun this cell to show the HTML representation or trust the notebook. <br />On GitHub, the HTML representation is unable to render, please try loading this page with nbviewer.org.</b></div><div class=\"sk-container\" hidden><div class=\"sk-item\"><div class=\"sk-estimator sk-toggleable\"><input class=\"sk-toggleable__control sk-hidden--visually\" id=\"sk-estimator-id-6\" type=\"checkbox\" checked><label for=\"sk-estimator-id-6\" class=\"sk-toggleable__label sk-toggleable__label-arrow\">LinearRegression</label><div class=\"sk-toggleable__content\"><pre>LinearRegression()</pre></div></div></div></div></div>"
      ],
      "text/plain": [
       "LinearRegression()"
      ]
     },
     "execution_count": 142,
     "metadata": {},
     "output_type": "execute_result"
    }
   ],
   "source": [
    "model = LinearRegression()\n",
    "model.fit(X_train, y_train)"
   ]
  },
  {
   "cell_type": "code",
   "execution_count": 143,
   "id": "61429c8c",
   "metadata": {},
   "outputs": [
    {
     "name": "stdout",
     "output_type": "stream",
     "text": [
      "Mean Squared Error: 111773121.815956\n",
      "R-squared score: 0.9995717066101539\n"
     ]
    }
   ],
   "source": [
    "# Make predictions on the testing data\n",
    "y_pred = model.predict(X_test)\n",
    "\n",
    "# Calculate R-squared score\n",
    "r2 = r2_score(y_test, y_pred)\n",
    "print(\"R-squared score:\", r2)"
   ]
  },
  {
   "cell_type": "code",
   "execution_count": 148,
   "id": "4b66bd89",
   "metadata": {},
   "outputs": [
    {
     "data": {
      "image/png": "[encoded data removed]",
      "text/plain": [
       "<Figure size 720x576 with 1 Axes>"
      ]
     },
     "metadata": {
      "needs_background": "light"
     },
     "output_type": "display_data"
    }
   ],
   "source": [
    "plt.figure(figsize=(10, 8))\n",
    "plt.scatter(y_test,y_pred)\n",
    "plt.show()"
   ]
  },
  {
   "cell_type": "code",
   "execution_count": null,
   "id": "f0cdf197",
   "metadata": {},
   "outputs": [],
   "source": []
  }
 ],
 "metadata": {
  "kernelspec": {
   "display_name": "Python 3 (ipykernel)",
   "language": "python",
   "name": "python3"
  },
  "language_info": {
   "codemirror_mode": {
    "name": "ipython",
    "version": 3
   },
   "file_extension": ".py",
   "mimetype": "text/x-python",
   "name": "python",
   "nbconvert_exporter": "python",
   "pygments_lexer": "ipython3",
   "version": "3.9.12"
  }
 },
 "nbformat": 4,
 "nbformat_minor": 5
}
